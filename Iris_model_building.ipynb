{
 "cells": [
  {
   "cell_type": "code",
   "execution_count": null,
   "metadata": {},
   "outputs": [],
   "source": [
    "#Importing required packages.\n",
    "import datetime\n",
    "import os\n",
    "import subprocess\n",
    "import sys\n",
    "import pandas as pd\n",
    "#using SVM for classification model\n",
    "from sklearn import svm\n",
    "import sklearn\n",
    "#To save the model\n",
    "import joblib"
   ]
  },
  {
   "cell_type": "code",
   "execution_count": null,
   "metadata": {},
   "outputs": [],
   "source": [
    "#Directory where model needs to be saved.\n",
    "#aiplatform_demo is the name of the bucket on the cloud stoarge.\n",
    "\n",
    "BUCKET_NAME = 'aiplatform_demo/IRIS/'\n",
    "#csv file containing features..\n",
    "iris_data_filename = 'iris_data.csv'\n",
    "#csv file containing labels\n",
    "iris_target_filename = 'iris_target.csv'\n",
    "\n"
   ]
  },
  {
   "cell_type": "code",
   "execution_count": null,
   "metadata": {},
   "outputs": [],
   "source": [
    "#Independent features read directly as numpy arrays.\n",
    "#sepal length, sepal width, petal lenght, petal width are the features.\n",
    "iris_data = pd.read_csv(iris_data_filename).values\n",
    "\n",
    "#Dependent/Labels feature read directly as numpy arrays (2 dimensional)\n",
    "#Class setosa ->0, class Versicolur -> 1, class Virginica ->2\n",
    "iris_target = pd.read_csv(iris_target_filename).values\n",
    "\n",
    "# Convert one-column 2D array into 1D array for use with scikit-learn\n",
    "iris_target = iris_target.reshape((iris_target.size,))\n"
   ]
  },
  {
   "cell_type": "code",
   "execution_count": null,
   "metadata": {},
   "outputs": [],
   "source": [
    "print(iris_data.ndim)\n",
    "print((iris_data))"
   ]
  },
  {
   "cell_type": "code",
   "execution_count": null,
   "metadata": {},
   "outputs": [],
   "source": [
    "print(iris_target.ndim)\n",
    "print((iris_target))"
   ]
  },
  {
   "cell_type": "code",
   "execution_count": null,
   "metadata": {},
   "outputs": [],
   "source": [
    "# Training the support vector machine model \n",
    "classifier = svm.SVC(gamma='auto', verbose=True)\n",
    "classifier.fit(iris_data, iris_target)\n",
    "\n",
    "# Saving the trained model\n",
    "model_filename = 'model.joblib'\n",
    "joblib.dump(classifier, model_filename)"
   ]
  },
  {
   "cell_type": "code",
   "execution_count": null,
   "metadata": {},
   "outputs": [],
   "source": [
    "# Saving the trained model into the google cloud storage bucket\n",
    "gcs_model_path = os.path.join('gs://', BUCKET_NAME,\n",
    "    datetime.datetime.now().strftime('iris_%Y%m%d_%H%M%S'), model_filename)\n",
    "subprocess.check_call(['gsutil', 'cp', model_filename, gcs_model_path],\n",
    "    stderr=sys.stdout)"
   ]
  }
 ],
 "metadata": {
  "kernelspec": {
   "display_name": "Python 3",
   "language": "python",
   "name": "python3"
  },
  "language_info": {
   "codemirror_mode": {
    "name": "ipython",
    "version": 3
   },
   "file_extension": ".py",
   "mimetype": "text/x-python",
   "name": "python",
   "nbconvert_exporter": "python",
   "pygments_lexer": "ipython3",
   "version": "3.8.5"
  }
 },
 "nbformat": 4,
 "nbformat_minor": 4
}
